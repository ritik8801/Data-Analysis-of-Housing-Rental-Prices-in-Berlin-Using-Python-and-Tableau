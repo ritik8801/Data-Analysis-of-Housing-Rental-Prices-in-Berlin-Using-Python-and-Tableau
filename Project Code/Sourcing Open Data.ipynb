{
 "cells": [
  {
   "cell_type": "markdown",
   "metadata": {},
   "source": [
    "# 01. Importing Libraries"
   ]
  },
  {
   "cell_type": "code",
   "execution_count": 32,
   "metadata": {},
   "outputs": [],
   "source": [
    "# Import Libraries\n",
    "\n",
    "import pandas as pd\n",
    "import numpy as np\n",
    "import os\n",
    "import matplotlib.pyplot as plt\n",
    "import matplotlib\n",
    "import seaborn as sns\n",
    "import scipy"
   ]
  },
  {
   "cell_type": "markdown",
   "metadata": {},
   "source": [
    "# 02. Importing Data"
   ]
  },
  {
   "cell_type": "code",
   "execution_count": 1,
   "metadata": {},
   "outputs": [],
   "source": [
    "# Project folder\n",
    "\n",
    "path = r'D:\\Data Analysis of Rental Prices in Berlin Using Python and Tableau'"
   ]
  },
  {
   "cell_type": "code",
   "execution_count": 2,
   "metadata": {},
   "outputs": [
    {
     "data": {
      "text/plain": [
       "'D:\\\\The Berlin Rental Market – An Analysis of Rental Prices in Berlin'"
      ]
     },
     "execution_count": 2,
     "metadata": {},
     "output_type": "execute_result"
    }
   ],
   "source": [
    "path"
   ]
  },
  {
   "cell_type": "code",
   "execution_count": 35,
   "metadata": {},
   "outputs": [],
   "source": [
    "# Importing AirBnB Berlin rental data\n",
    "\n",
    "df_berlin = pd.read_csv(os.path.join(path, 'Data', 'Original Data', 'AirBnB Berlin.csv'))\n"
   ]
  },
  {
   "cell_type": "markdown",
   "metadata": {},
   "source": [
    "# 03. Wrangling Data"
   ]
  },
  {
   "cell_type": "code",
   "execution_count": 36,
   "metadata": {},
   "outputs": [
    {
     "data": {
      "text/plain": [
       "(16962, 18)"
      ]
     },
     "execution_count": 36,
     "metadata": {},
     "output_type": "execute_result"
    }
   ],
   "source": [
    "# Checking df shape\n",
    "\n",
    "df_berlin.shape"
   ]
  },
  {
   "cell_type": "markdown",
   "metadata": {},
   "source": [
    "## Data Types"
   ]
  },
  {
   "cell_type": "code",
   "execution_count": 37,
   "metadata": {},
   "outputs": [
    {
     "data": {
      "text/plain": [
       "id                                float64\n",
       "name                               object\n",
       "host_id                             int64\n",
       "host_name                          object\n",
       "neighbourhood_group                object\n",
       "neighbourhood                      object\n",
       "latitude                          float64\n",
       "longitude                         float64\n",
       "room_type                          object\n",
       "price                               int64\n",
       "minimum_nights                      int64\n",
       "number_of_reviews                   int64\n",
       "last_review                        object\n",
       "reviews_per_month                 float64\n",
       "calculated_host_listings_count      int64\n",
       "availability_365                    int64\n",
       "number_of_reviews_ltm               int64\n",
       "license                            object\n",
       "dtype: object"
      ]
     },
     "execution_count": 37,
     "metadata": {},
     "output_type": "execute_result"
    }
   ],
   "source": [
    "df_berlin.dtypes"
   ]
  },
  {
   "cell_type": "code",
   "execution_count": 38,
   "metadata": {},
   "outputs": [
    {
     "data": {
      "text/html": [
       "<div>\n",
       "<style scoped>\n",
       "    .dataframe tbody tr th:only-of-type {\n",
       "        vertical-align: middle;\n",
       "    }\n",
       "\n",
       "    .dataframe tbody tr th {\n",
       "        vertical-align: top;\n",
       "    }\n",
       "\n",
       "    .dataframe thead th {\n",
       "        text-align: right;\n",
       "    }\n",
       "</style>\n",
       "<table border=\"1\" class=\"dataframe\">\n",
       "  <thead>\n",
       "    <tr style=\"text-align: right;\">\n",
       "      <th></th>\n",
       "      <th>id</th>\n",
       "      <th>name</th>\n",
       "      <th>host_id</th>\n",
       "      <th>host_name</th>\n",
       "      <th>neighbourhood_group</th>\n",
       "      <th>neighbourhood</th>\n",
       "      <th>latitude</th>\n",
       "      <th>longitude</th>\n",
       "      <th>room_type</th>\n",
       "      <th>price</th>\n",
       "      <th>minimum_nights</th>\n",
       "      <th>number_of_reviews</th>\n",
       "      <th>last_review</th>\n",
       "      <th>reviews_per_month</th>\n",
       "      <th>calculated_host_listings_count</th>\n",
       "      <th>availability_365</th>\n",
       "      <th>number_of_reviews_ltm</th>\n",
       "      <th>license</th>\n",
       "    </tr>\n",
       "  </thead>\n",
       "  <tbody>\n",
       "    <tr>\n",
       "      <th>0</th>\n",
       "      <td>4.021868e+07</td>\n",
       "      <td>Ap 4 - Schönes Apartment nahe dem Helios Klinikum</td>\n",
       "      <td>39450649</td>\n",
       "      <td>Daniel</td>\n",
       "      <td>Pankow</td>\n",
       "      <td>Buch</td>\n",
       "      <td>52.63136</td>\n",
       "      <td>13.51879</td>\n",
       "      <td>Entire home/apt</td>\n",
       "      <td>51</td>\n",
       "      <td>1</td>\n",
       "      <td>11</td>\n",
       "      <td>3/4/2022</td>\n",
       "      <td>0.40</td>\n",
       "      <td>21</td>\n",
       "      <td>345</td>\n",
       "      <td>8</td>\n",
       "      <td>NaN</td>\n",
       "    </tr>\n",
       "    <tr>\n",
       "      <th>1</th>\n",
       "      <td>3.784921e+07</td>\n",
       "      <td>MODERN APARTMENT AT THE BERLIN WALL TRAIL</td>\n",
       "      <td>286623313</td>\n",
       "      <td>Carsten</td>\n",
       "      <td>Tempelhof - Schöneberg</td>\n",
       "      <td>Lichtenrade</td>\n",
       "      <td>52.37272</td>\n",
       "      <td>13.41607</td>\n",
       "      <td>Entire home/apt</td>\n",
       "      <td>40</td>\n",
       "      <td>28</td>\n",
       "      <td>2</td>\n",
       "      <td>12/2/2019</td>\n",
       "      <td>0.07</td>\n",
       "      <td>1</td>\n",
       "      <td>352</td>\n",
       "      <td>0</td>\n",
       "      <td>NaN</td>\n",
       "    </tr>\n",
       "    <tr>\n",
       "      <th>2</th>\n",
       "      <td>4.021881e+07</td>\n",
       "      <td>Ap 33 - Schöne Ferienwohnung am Helios Klinikum</td>\n",
       "      <td>39450649</td>\n",
       "      <td>Daniel</td>\n",
       "      <td>Pankow</td>\n",
       "      <td>Buch</td>\n",
       "      <td>52.63136</td>\n",
       "      <td>13.51879</td>\n",
       "      <td>Entire home/apt</td>\n",
       "      <td>87</td>\n",
       "      <td>1</td>\n",
       "      <td>3</td>\n",
       "      <td>11/1/2021</td>\n",
       "      <td>0.16</td>\n",
       "      <td>21</td>\n",
       "      <td>304</td>\n",
       "      <td>2</td>\n",
       "      <td>NaN</td>\n",
       "    </tr>\n",
       "    <tr>\n",
       "      <th>3</th>\n",
       "      <td>3.243150e+07</td>\n",
       "      <td>Marcella`s Ferienhaus  westl. Stadtrand zu Berlin</td>\n",
       "      <td>243598169</td>\n",
       "      <td>Marcella</td>\n",
       "      <td>Spandau</td>\n",
       "      <td>Falkenhagener Feld</td>\n",
       "      <td>52.55720</td>\n",
       "      <td>13.14205</td>\n",
       "      <td>Entire home/apt</td>\n",
       "      <td>55</td>\n",
       "      <td>3</td>\n",
       "      <td>16</td>\n",
       "      <td>1/6/2022</td>\n",
       "      <td>0.43</td>\n",
       "      <td>1</td>\n",
       "      <td>215</td>\n",
       "      <td>5</td>\n",
       "      <td>NaN</td>\n",
       "    </tr>\n",
       "    <tr>\n",
       "      <th>4</th>\n",
       "      <td>5.468740e+17</td>\n",
       "      <td>Lake house getaway in nature reserve close to Bln</td>\n",
       "      <td>156670608</td>\n",
       "      <td>Kyra</td>\n",
       "      <td>Spandau</td>\n",
       "      <td>Gatow / Kladow</td>\n",
       "      <td>52.45472</td>\n",
       "      <td>13.10890</td>\n",
       "      <td>Entire home/apt</td>\n",
       "      <td>90</td>\n",
       "      <td>3</td>\n",
       "      <td>4</td>\n",
       "      <td>2/27/2022</td>\n",
       "      <td>2.55</td>\n",
       "      <td>1</td>\n",
       "      <td>251</td>\n",
       "      <td>4</td>\n",
       "      <td>NaN</td>\n",
       "    </tr>\n",
       "  </tbody>\n",
       "</table>\n",
       "</div>"
      ],
      "text/plain": [
       "             id                                               name    host_id  \\\n",
       "0  4.021868e+07  Ap 4 - Schönes Apartment nahe dem Helios Klinikum   39450649   \n",
       "1  3.784921e+07          MODERN APARTMENT AT THE BERLIN WALL TRAIL  286623313   \n",
       "2  4.021881e+07    Ap 33 - Schöne Ferienwohnung am Helios Klinikum   39450649   \n",
       "3  3.243150e+07  Marcella`s Ferienhaus  westl. Stadtrand zu Berlin  243598169   \n",
       "4  5.468740e+17  Lake house getaway in nature reserve close to Bln  156670608   \n",
       "\n",
       "  host_name     neighbourhood_group       neighbourhood  latitude  longitude  \\\n",
       "0    Daniel                  Pankow                Buch  52.63136   13.51879   \n",
       "1   Carsten  Tempelhof - Schöneberg         Lichtenrade  52.37272   13.41607   \n",
       "2    Daniel                  Pankow                Buch  52.63136   13.51879   \n",
       "3  Marcella                 Spandau  Falkenhagener Feld  52.55720   13.14205   \n",
       "4      Kyra                 Spandau      Gatow / Kladow  52.45472   13.10890   \n",
       "\n",
       "         room_type  price  minimum_nights  number_of_reviews last_review  \\\n",
       "0  Entire home/apt     51               1                 11    3/4/2022   \n",
       "1  Entire home/apt     40              28                  2   12/2/2019   \n",
       "2  Entire home/apt     87               1                  3   11/1/2021   \n",
       "3  Entire home/apt     55               3                 16    1/6/2022   \n",
       "4  Entire home/apt     90               3                  4   2/27/2022   \n",
       "\n",
       "   reviews_per_month  calculated_host_listings_count  availability_365  \\\n",
       "0               0.40                              21               345   \n",
       "1               0.07                               1               352   \n",
       "2               0.16                              21               304   \n",
       "3               0.43                               1               215   \n",
       "4               2.55                               1               251   \n",
       "\n",
       "   number_of_reviews_ltm license  \n",
       "0                      8     NaN  \n",
       "1                      0     NaN  \n",
       "2                      2     NaN  \n",
       "3                      5     NaN  \n",
       "4                      4     NaN  "
      ]
     },
     "execution_count": 38,
     "metadata": {},
     "output_type": "execute_result"
    }
   ],
   "source": [
    "df_berlin.head(5)"
   ]
  },
  {
   "cell_type": "markdown",
   "metadata": {},
   "source": [
    "Based on the intitial loading of the dataset, such as the shape and head, we can already make several observations. Firstly, there are 18 columns and close to 17,000 observations. There are a few missing values, as well as many NaN observations under the license variable. With the data we have, once cleaned, we may be able to better understanding the changing AirBnB in Berlin over the last several years as well as potentially create a predictive analysis to determine what the future market may look like."
   ]
  },
  {
   "cell_type": "code",
   "execution_count": 39,
   "metadata": {},
   "outputs": [
    {
     "data": {
      "text/html": [
       "<div>\n",
       "<style scoped>\n",
       "    .dataframe tbody tr th:only-of-type {\n",
       "        vertical-align: middle;\n",
       "    }\n",
       "\n",
       "    .dataframe tbody tr th {\n",
       "        vertical-align: top;\n",
       "    }\n",
       "\n",
       "    .dataframe thead th {\n",
       "        text-align: right;\n",
       "    }\n",
       "</style>\n",
       "<table border=\"1\" class=\"dataframe\">\n",
       "  <thead>\n",
       "    <tr style=\"text-align: right;\">\n",
       "      <th></th>\n",
       "      <th>id</th>\n",
       "      <th>name</th>\n",
       "      <th>host_id</th>\n",
       "      <th>host_name</th>\n",
       "      <th>neighbourhood_group</th>\n",
       "      <th>neighbourhood</th>\n",
       "      <th>latitude</th>\n",
       "      <th>longitude</th>\n",
       "      <th>room_type</th>\n",
       "      <th>price</th>\n",
       "      <th>minimum_nights</th>\n",
       "      <th>number_of_reviews</th>\n",
       "      <th>last_review</th>\n",
       "      <th>reviews_per_month</th>\n",
       "      <th>calculated_host_listings_count</th>\n",
       "      <th>availability_365</th>\n",
       "      <th>number_of_reviews_ltm</th>\n",
       "      <th>license</th>\n",
       "    </tr>\n",
       "  </thead>\n",
       "  <tbody>\n",
       "    <tr>\n",
       "      <th>0</th>\n",
       "      <td>4.021868e+07</td>\n",
       "      <td>Ap 4 - Schönes Apartment nahe dem Helios Klinikum</td>\n",
       "      <td>39450649</td>\n",
       "      <td>Daniel</td>\n",
       "      <td>Pankow</td>\n",
       "      <td>Buch</td>\n",
       "      <td>52.63136</td>\n",
       "      <td>13.51879</td>\n",
       "      <td>Entire home/apt</td>\n",
       "      <td>51</td>\n",
       "      <td>1</td>\n",
       "      <td>11</td>\n",
       "      <td>3/4/2022</td>\n",
       "      <td>0.40</td>\n",
       "      <td>21</td>\n",
       "      <td>345</td>\n",
       "      <td>8</td>\n",
       "      <td>NaN</td>\n",
       "    </tr>\n",
       "    <tr>\n",
       "      <th>1</th>\n",
       "      <td>3.784921e+07</td>\n",
       "      <td>MODERN APARTMENT AT THE BERLIN WALL TRAIL</td>\n",
       "      <td>286623313</td>\n",
       "      <td>Carsten</td>\n",
       "      <td>Tempelhof - Schöneberg</td>\n",
       "      <td>Lichtenrade</td>\n",
       "      <td>52.37272</td>\n",
       "      <td>13.41607</td>\n",
       "      <td>Entire home/apt</td>\n",
       "      <td>40</td>\n",
       "      <td>28</td>\n",
       "      <td>2</td>\n",
       "      <td>12/2/2019</td>\n",
       "      <td>0.07</td>\n",
       "      <td>1</td>\n",
       "      <td>352</td>\n",
       "      <td>0</td>\n",
       "      <td>NaN</td>\n",
       "    </tr>\n",
       "    <tr>\n",
       "      <th>2</th>\n",
       "      <td>4.021881e+07</td>\n",
       "      <td>Ap 33 - Schöne Ferienwohnung am Helios Klinikum</td>\n",
       "      <td>39450649</td>\n",
       "      <td>Daniel</td>\n",
       "      <td>Pankow</td>\n",
       "      <td>Buch</td>\n",
       "      <td>52.63136</td>\n",
       "      <td>13.51879</td>\n",
       "      <td>Entire home/apt</td>\n",
       "      <td>87</td>\n",
       "      <td>1</td>\n",
       "      <td>3</td>\n",
       "      <td>11/1/2021</td>\n",
       "      <td>0.16</td>\n",
       "      <td>21</td>\n",
       "      <td>304</td>\n",
       "      <td>2</td>\n",
       "      <td>NaN</td>\n",
       "    </tr>\n",
       "    <tr>\n",
       "      <th>3</th>\n",
       "      <td>3.243150e+07</td>\n",
       "      <td>Marcella`s Ferienhaus  westl. Stadtrand zu Berlin</td>\n",
       "      <td>243598169</td>\n",
       "      <td>Marcella</td>\n",
       "      <td>Spandau</td>\n",
       "      <td>Falkenhagener Feld</td>\n",
       "      <td>52.55720</td>\n",
       "      <td>13.14205</td>\n",
       "      <td>Entire home/apt</td>\n",
       "      <td>55</td>\n",
       "      <td>3</td>\n",
       "      <td>16</td>\n",
       "      <td>1/6/2022</td>\n",
       "      <td>0.43</td>\n",
       "      <td>1</td>\n",
       "      <td>215</td>\n",
       "      <td>5</td>\n",
       "      <td>NaN</td>\n",
       "    </tr>\n",
       "    <tr>\n",
       "      <th>4</th>\n",
       "      <td>5.468740e+17</td>\n",
       "      <td>Lake house getaway in nature reserve close to Bln</td>\n",
       "      <td>156670608</td>\n",
       "      <td>Kyra</td>\n",
       "      <td>Spandau</td>\n",
       "      <td>Gatow / Kladow</td>\n",
       "      <td>52.45472</td>\n",
       "      <td>13.10890</td>\n",
       "      <td>Entire home/apt</td>\n",
       "      <td>90</td>\n",
       "      <td>3</td>\n",
       "      <td>4</td>\n",
       "      <td>2/27/2022</td>\n",
       "      <td>2.55</td>\n",
       "      <td>1</td>\n",
       "      <td>251</td>\n",
       "      <td>4</td>\n",
       "      <td>NaN</td>\n",
       "    </tr>\n",
       "  </tbody>\n",
       "</table>\n",
       "</div>"
      ],
      "text/plain": [
       "             id                                               name    host_id  \\\n",
       "0  4.021868e+07  Ap 4 - Schönes Apartment nahe dem Helios Klinikum   39450649   \n",
       "1  3.784921e+07          MODERN APARTMENT AT THE BERLIN WALL TRAIL  286623313   \n",
       "2  4.021881e+07    Ap 33 - Schöne Ferienwohnung am Helios Klinikum   39450649   \n",
       "3  3.243150e+07  Marcella`s Ferienhaus  westl. Stadtrand zu Berlin  243598169   \n",
       "4  5.468740e+17  Lake house getaway in nature reserve close to Bln  156670608   \n",
       "\n",
       "  host_name     neighbourhood_group       neighbourhood  latitude  longitude  \\\n",
       "0    Daniel                  Pankow                Buch  52.63136   13.51879   \n",
       "1   Carsten  Tempelhof - Schöneberg         Lichtenrade  52.37272   13.41607   \n",
       "2    Daniel                  Pankow                Buch  52.63136   13.51879   \n",
       "3  Marcella                 Spandau  Falkenhagener Feld  52.55720   13.14205   \n",
       "4      Kyra                 Spandau      Gatow / Kladow  52.45472   13.10890   \n",
       "\n",
       "         room_type  price  minimum_nights  number_of_reviews last_review  \\\n",
       "0  Entire home/apt     51               1                 11    3/4/2022   \n",
       "1  Entire home/apt     40              28                  2   12/2/2019   \n",
       "2  Entire home/apt     87               1                  3   11/1/2021   \n",
       "3  Entire home/apt     55               3                 16    1/6/2022   \n",
       "4  Entire home/apt     90               3                  4   2/27/2022   \n",
       "\n",
       "   reviews_per_month  calculated_host_listings_count  availability_365  \\\n",
       "0               0.40                              21               345   \n",
       "1               0.07                               1               352   \n",
       "2               0.16                              21               304   \n",
       "3               0.43                               1               215   \n",
       "4               2.55                               1               251   \n",
       "\n",
       "   number_of_reviews_ltm license  \n",
       "0                      8     NaN  \n",
       "1                      0     NaN  \n",
       "2                      2     NaN  \n",
       "3                      5     NaN  \n",
       "4                      4     NaN  "
      ]
     },
     "execution_count": 39,
     "metadata": {},
     "output_type": "execute_result"
    }
   ],
   "source": [
    "# Checking all Columns\n",
    "\n",
    "pd.options.display.max_columns = None\n",
    "df_berlin.head()"
   ]
  },
  {
   "cell_type": "markdown",
   "metadata": {},
   "source": [
    "Observing the dataset shows us that there are several NaN values that need to be addressed before our analysis can continue"
   ]
  },
  {
   "cell_type": "markdown",
   "metadata": {},
   "source": [
    "Determine which columns have null values and then using the 'sum' function will show us which variables have nulls in each column within the dataset."
   ]
  },
  {
   "cell_type": "code",
   "execution_count": 40,
   "metadata": {},
   "outputs": [
    {
     "data": {
      "text/plain": [
       "id                                    0\n",
       "name                                 28\n",
       "host_id                               0\n",
       "host_name                            14\n",
       "neighbourhood_group                   0\n",
       "neighbourhood                         0\n",
       "latitude                              0\n",
       "longitude                             0\n",
       "room_type                             0\n",
       "price                                 0\n",
       "minimum_nights                        0\n",
       "number_of_reviews                     0\n",
       "last_review                        3137\n",
       "reviews_per_month                  3137\n",
       "calculated_host_listings_count        0\n",
       "availability_365                      0\n",
       "number_of_reviews_ltm                 0\n",
       "license                           12367\n",
       "dtype: int64"
      ]
     },
     "execution_count": 40,
     "metadata": {},
     "output_type": "execute_result"
    }
   ],
   "source": [
    "df_berlin.isnull().sum()"
   ]
  },
  {
   "cell_type": "markdown",
   "metadata": {},
   "source": [
    "Based on these results, there are several missing observations in 'name' and 'host_name' but due to PII data concerns, these will be removed from the dataset, while the id number as well as lat/long will still provide enough information to understand the user and the general location of the apartment. "
   ]
  },
  {
   "cell_type": "markdown",
   "metadata": {},
   "source": [
    "Moreover, we can see that last_review and reviews_per_month are both missing 3,137 observations. For \"last_review\", is there are no reviews for the listing - the date for this listing simply does not exist. As such, the column is irrelevant and therefore amending these values is not necessary. For the variable \"reviews_per_month\", we can amend the missing values as 0.0, which will indicate that that the \"number_of_review\" column will also be 0. As such, the \"reviews_per_month\" would then also equal 0.0 reviews per month. "
   ]
  },
  {
   "cell_type": "markdown",
   "metadata": {},
   "source": [
    "The variable \"license,\" refers to whether a host_id has a specific license registered regarding the renting of a room or apartment. While this may be relevant for understanding how many users actually have an official license to officially rent out an apartment, which is, AFAIK, required by German and/or Berlin law, this is not relevant for our understanding of the changing prices and growing areas of rent for our dataset. As such, this variable will likewise be removed. "
   ]
  },
  {
   "cell_type": "markdown",
   "metadata": {},
   "source": [
    "Based on the above understanding of the dataset we have at hand, we can drop several columns to ensure privacy while also removing/appending variables as necessary. "
   ]
  },
  {
   "cell_type": "markdown",
   "metadata": {},
   "source": [
    "# 04. Data Cleaning"
   ]
  },
  {
   "cell_type": "markdown",
   "metadata": {},
   "source": [
    "## Dropping Columns/Variables"
   ]
  },
  {
   "cell_type": "code",
   "execution_count": 41,
   "metadata": {},
   "outputs": [
    {
     "data": {
      "text/html": [
       "<div>\n",
       "<style scoped>\n",
       "    .dataframe tbody tr th:only-of-type {\n",
       "        vertical-align: middle;\n",
       "    }\n",
       "\n",
       "    .dataframe tbody tr th {\n",
       "        vertical-align: top;\n",
       "    }\n",
       "\n",
       "    .dataframe thead th {\n",
       "        text-align: right;\n",
       "    }\n",
       "</style>\n",
       "<table border=\"1\" class=\"dataframe\">\n",
       "  <thead>\n",
       "    <tr style=\"text-align: right;\">\n",
       "      <th></th>\n",
       "      <th>id</th>\n",
       "      <th>host_id</th>\n",
       "      <th>neighbourhood_group</th>\n",
       "      <th>neighbourhood</th>\n",
       "      <th>latitude</th>\n",
       "      <th>longitude</th>\n",
       "      <th>room_type</th>\n",
       "      <th>price</th>\n",
       "      <th>minimum_nights</th>\n",
       "      <th>number_of_reviews</th>\n",
       "      <th>reviews_per_month</th>\n",
       "      <th>calculated_host_listings_count</th>\n",
       "      <th>availability_365</th>\n",
       "      <th>number_of_reviews_ltm</th>\n",
       "    </tr>\n",
       "  </thead>\n",
       "  <tbody>\n",
       "    <tr>\n",
       "      <th>0</th>\n",
       "      <td>4.021868e+07</td>\n",
       "      <td>39450649</td>\n",
       "      <td>Pankow</td>\n",
       "      <td>Buch</td>\n",
       "      <td>52.63136</td>\n",
       "      <td>13.51879</td>\n",
       "      <td>Entire home/apt</td>\n",
       "      <td>51</td>\n",
       "      <td>1</td>\n",
       "      <td>11</td>\n",
       "      <td>0.40</td>\n",
       "      <td>21</td>\n",
       "      <td>345</td>\n",
       "      <td>8</td>\n",
       "    </tr>\n",
       "    <tr>\n",
       "      <th>1</th>\n",
       "      <td>3.784921e+07</td>\n",
       "      <td>286623313</td>\n",
       "      <td>Tempelhof - Schöneberg</td>\n",
       "      <td>Lichtenrade</td>\n",
       "      <td>52.37272</td>\n",
       "      <td>13.41607</td>\n",
       "      <td>Entire home/apt</td>\n",
       "      <td>40</td>\n",
       "      <td>28</td>\n",
       "      <td>2</td>\n",
       "      <td>0.07</td>\n",
       "      <td>1</td>\n",
       "      <td>352</td>\n",
       "      <td>0</td>\n",
       "    </tr>\n",
       "    <tr>\n",
       "      <th>2</th>\n",
       "      <td>4.021881e+07</td>\n",
       "      <td>39450649</td>\n",
       "      <td>Pankow</td>\n",
       "      <td>Buch</td>\n",
       "      <td>52.63136</td>\n",
       "      <td>13.51879</td>\n",
       "      <td>Entire home/apt</td>\n",
       "      <td>87</td>\n",
       "      <td>1</td>\n",
       "      <td>3</td>\n",
       "      <td>0.16</td>\n",
       "      <td>21</td>\n",
       "      <td>304</td>\n",
       "      <td>2</td>\n",
       "    </tr>\n",
       "    <tr>\n",
       "      <th>3</th>\n",
       "      <td>3.243150e+07</td>\n",
       "      <td>243598169</td>\n",
       "      <td>Spandau</td>\n",
       "      <td>Falkenhagener Feld</td>\n",
       "      <td>52.55720</td>\n",
       "      <td>13.14205</td>\n",
       "      <td>Entire home/apt</td>\n",
       "      <td>55</td>\n",
       "      <td>3</td>\n",
       "      <td>16</td>\n",
       "      <td>0.43</td>\n",
       "      <td>1</td>\n",
       "      <td>215</td>\n",
       "      <td>5</td>\n",
       "    </tr>\n",
       "    <tr>\n",
       "      <th>4</th>\n",
       "      <td>5.468740e+17</td>\n",
       "      <td>156670608</td>\n",
       "      <td>Spandau</td>\n",
       "      <td>Gatow / Kladow</td>\n",
       "      <td>52.45472</td>\n",
       "      <td>13.10890</td>\n",
       "      <td>Entire home/apt</td>\n",
       "      <td>90</td>\n",
       "      <td>3</td>\n",
       "      <td>4</td>\n",
       "      <td>2.55</td>\n",
       "      <td>1</td>\n",
       "      <td>251</td>\n",
       "      <td>4</td>\n",
       "    </tr>\n",
       "  </tbody>\n",
       "</table>\n",
       "</div>"
      ],
      "text/plain": [
       "             id    host_id     neighbourhood_group       neighbourhood  \\\n",
       "0  4.021868e+07   39450649                  Pankow                Buch   \n",
       "1  3.784921e+07  286623313  Tempelhof - Schöneberg         Lichtenrade   \n",
       "2  4.021881e+07   39450649                  Pankow                Buch   \n",
       "3  3.243150e+07  243598169                 Spandau  Falkenhagener Feld   \n",
       "4  5.468740e+17  156670608                 Spandau      Gatow / Kladow   \n",
       "\n",
       "   latitude  longitude        room_type  price  minimum_nights  \\\n",
       "0  52.63136   13.51879  Entire home/apt     51               1   \n",
       "1  52.37272   13.41607  Entire home/apt     40              28   \n",
       "2  52.63136   13.51879  Entire home/apt     87               1   \n",
       "3  52.55720   13.14205  Entire home/apt     55               3   \n",
       "4  52.45472   13.10890  Entire home/apt     90               3   \n",
       "\n",
       "   number_of_reviews  reviews_per_month  calculated_host_listings_count  \\\n",
       "0                 11               0.40                              21   \n",
       "1                  2               0.07                               1   \n",
       "2                  3               0.16                              21   \n",
       "3                 16               0.43                               1   \n",
       "4                  4               2.55                               1   \n",
       "\n",
       "   availability_365  number_of_reviews_ltm  \n",
       "0               345                      8  \n",
       "1               352                      0  \n",
       "2               304                      2  \n",
       "3               215                      5  \n",
       "4               251                      4  "
      ]
     },
     "execution_count": 41,
     "metadata": {},
     "output_type": "execute_result"
    }
   ],
   "source": [
    "# Dropping columns that are either for this analysis irrelavant or more problematic, contain PII data.\n",
    "\n",
    "df_berlin.drop(['name', 'host_name', 'last_review', 'license'], axis=1, inplace=True)\n",
    "\n",
    "df_berlin.head(5)"
   ]
  },
  {
   "cell_type": "markdown",
   "metadata": {},
   "source": [
    "## Replacing missing values"
   ]
  },
  {
   "cell_type": "code",
   "execution_count": 42,
   "metadata": {},
   "outputs": [
    {
     "data": {
      "text/plain": [
       "0"
      ]
     },
     "execution_count": 42,
     "metadata": {},
     "output_type": "execute_result"
    }
   ],
   "source": [
    "# Replacing all NaN values under \"reviews_per_month\" with 0\n",
    "df_berlin.fillna({'reviews_per_month':0}, inplace=True)\n",
    "\n",
    "df_berlin.reviews_per_month.isnull().sum()"
   ]
  },
  {
   "cell_type": "code",
   "execution_count": 43,
   "metadata": {},
   "outputs": [
    {
     "data": {
      "text/plain": [
       "id                                0\n",
       "host_id                           0\n",
       "neighbourhood_group               0\n",
       "neighbourhood                     0\n",
       "latitude                          0\n",
       "longitude                         0\n",
       "room_type                         0\n",
       "price                             0\n",
       "minimum_nights                    0\n",
       "number_of_reviews                 0\n",
       "reviews_per_month                 0\n",
       "calculated_host_listings_count    0\n",
       "availability_365                  0\n",
       "number_of_reviews_ltm             0\n",
       "dtype: int64"
      ]
     },
     "execution_count": 43,
     "metadata": {},
     "output_type": "execute_result"
    }
   ],
   "source": [
    "# Examining changes made\n",
    "\n",
    "df_berlin.isnull().sum()"
   ]
  },
  {
   "cell_type": "code",
   "execution_count": 44,
   "metadata": {},
   "outputs": [
    {
     "data": {
      "text/plain": [
       "(16962, 14)"
      ]
     },
     "execution_count": 44,
     "metadata": {},
     "output_type": "execute_result"
    }
   ],
   "source": [
    "# Examining changes made\n",
    "df_berlin.shape"
   ]
  },
  {
   "cell_type": "markdown",
   "metadata": {},
   "source": [
    "Based on the above changes, we no longer have any missing observations in the dataset, there are 14 distinct variables and 16,962 different observations (rows)"
   ]
  },
  {
   "cell_type": "code",
   "execution_count": 45,
   "metadata": {},
   "outputs": [
    {
     "data": {
      "text/plain": [
       "0"
      ]
     },
     "execution_count": 45,
     "metadata": {},
     "output_type": "execute_result"
    }
   ],
   "source": [
    "# Checking for duplicates\n",
    "\n",
    "df_berlin.duplicated().sum()"
   ]
  },
  {
   "cell_type": "markdown",
   "metadata": {},
   "source": [
    "# 05. Descriptive Statistics"
   ]
  },
  {
   "cell_type": "code",
   "execution_count": 46,
   "metadata": {},
   "outputs": [
    {
     "data": {
      "text/plain": [
       "array(['Pankow', 'Tempelhof - Schöneberg', 'Spandau',\n",
       "       'Treptow - Köpenick', 'Steglitz - Zehlendorf', 'Neukölln',\n",
       "       'Lichtenberg', 'Marzahn - Hellersdorf', 'Reinickendorf',\n",
       "       'Friedrichshain-Kreuzberg', 'Mitte', 'Charlottenburg-Wilm.'],\n",
       "      dtype=object)"
      ]
     },
     "execution_count": 46,
     "metadata": {},
     "output_type": "execute_result"
    }
   ],
   "source": [
    "# Exploring some categorical variables within the dataset\n",
    "\n",
    "df_berlin.neighbourhood_group.unique()"
   ]
  },
  {
   "cell_type": "code",
   "execution_count": 47,
   "metadata": {},
   "outputs": [
    {
     "data": {
      "text/plain": [
       "array(['Buch', 'Lichtenrade', 'Falkenhagener Feld', 'Gatow / Kladow',\n",
       "       'Rahnsdorf/Hessenwinkel', 'Teltower Damm',\n",
       "       'Schmöckwitz/Karolinenhof/Rauchfangswerder', 'Zehlendorf  Südwest',\n",
       "       'Ostpreußendamm', 'Buckow', 'Malchow, Wartenberg und Falkenberg',\n",
       "       'Altglienicke', 'Drakestr.', 'Mahlsdorf', 'West 2',\n",
       "       'Prenzlauer Berg Südwest', 'Schöneberg-Nord', 'Helmholtzplatz',\n",
       "       'Prenzlauer Berg Nordwest', 'nördliche Luisenstadt',\n",
       "       'Reuterstraße', 'Brunnenstr. Süd', 'Tempelhofer Vorstadt',\n",
       "       'Prenzlauer Berg Süd', 'Halensee', 'Regierungsviertel',\n",
       "       'Frankfurter Allee Süd FK', 'Alt  Treptow', 'Neue Kantstraße',\n",
       "       'Brunnenstr. Nord', 'Prenzlauer Berg Nord', 'Kantstraße',\n",
       "       'Schmargendorf', 'Alexanderplatz',\n",
       "       'Blankenfelde/Niederschönhausen', 'südliche Luisenstadt',\n",
       "       'Schillerpromenade', 'Frankfurter Allee Nord', 'Schöneberg-Süd',\n",
       "       'Südliche Friedrichstadt', 'Moabit West', 'Wiesbadener Straße',\n",
       "       'Blankenburg/Heinersdorf/Märchenland', 'Ost 2', 'Pankow Zentrum',\n",
       "       'Zehlendorf  Nord', 'Prenzlauer Berg Ost', 'Buckow Nord',\n",
       "       'Pankow Süd', 'Karlshorst', 'Karl-Marx-Allee-Nord',\n",
       "       'Düsseldorfer Straße', 'Rudow', 'Otto-Suhr-Allee',\n",
       "       'Mierendorffplatz', 'Wedding Zentrum', 'Karl-Marx-Allee-Süd',\n",
       "       'Moabit Ost', 'Neuköllner Mitte/Zentrum', 'Johannisthal',\n",
       "       'Marienfelde', 'Friedenau', 'Tiergarten Süd', 'Heerstraße Nord',\n",
       "       'Baumschulenweg', 'Rixdorf', 'Schloßstr.', 'Nord 2', 'Parkviertel',\n",
       "       'Weißensee', 'Volkspark Wilmersdorf',\n",
       "       'Schönholz/Wilhelmsruh/Rosenthal', 'Alt-Hohenschönhausen Nord',\n",
       "       'Albrechtstr.', 'Osloer Straße', 'Gropiusstadt', 'Biesdorf',\n",
       "       'Britz', 'Ost 1', 'Hellersdorf-Nord', 'Marzahn-Mitte',\n",
       "       'Oberschöneweide', 'MV 1', 'Heerstrasse', 'Westend', 'Nord 1',\n",
       "       'Adlershof', 'Barstraße', 'Tempelhof', 'Schloß Charlottenburg',\n",
       "       'Neu Lichtenberg', 'Frankfurter Allee Süd', 'Köllnische Heide',\n",
       "       'Alt-Lichtenberg', 'Buchholz', 'Kurfürstendamm',\n",
       "       'Rummelsburger Bucht', 'West 4', 'Bohnsdorf', 'MV 2',\n",
       "       'Friedrichsfelde Nord', 'Grunewald', 'Fennpfuhl',\n",
       "       'Friedrichshagen', 'Kaulsdorf', 'Mariendorf',\n",
       "       'Charlottenburg Nord', 'Köpenick-Nord', 'Karow',\n",
       "       'Neu-Hohenschönhausen Nord', 'Weißensee Ost', 'West 5',\n",
       "       'Plänterwald', 'Hellersdorf-Süd', 'Spandau Mitte',\n",
       "       'Alt-Hohenschönhausen Süd', 'West 1', 'Haselhorst', 'West 3',\n",
       "       'Altstadt-Kietz', 'Wilhelmstadt', 'Lankwitz', 'Niederschöneweide',\n",
       "       'Friedrichsfelde Süd', 'Marzahn-Süd', 'Brunsbütteler Damm',\n",
       "       'Kölln. Vorstadt/Spindlersf.', 'Neu-Hohenschönhausen Süd',\n",
       "       'Grünau', 'Marzahn-Nord', 'Dammvorstadt', 'Müggelheim',\n",
       "       'Hakenfelde', 'Köpenick-Süd', 'Siemensstadt', 'Hellersdorf-Ost',\n",
       "       'Allende-Viertel'], dtype=object)"
      ]
     },
     "execution_count": 47,
     "metadata": {},
     "output_type": "execute_result"
    }
   ],
   "source": [
    "df_berlin.neighbourhood.unique()"
   ]
  },
  {
   "cell_type": "markdown",
   "metadata": {},
   "source": [
    "The specific neighourhood variable is very large and each is a subset of the neighbourhood_group variable. I will now examine the unique (numerical) values within the neighbourhood. \n",
    "\n"
   ]
  },
  {
   "cell_type": "code",
   "execution_count": 48,
   "metadata": {},
   "outputs": [
    {
     "data": {
      "text/plain": [
       "137"
      ]
     },
     "execution_count": 48,
     "metadata": {},
     "output_type": "execute_result"
    }
   ],
   "source": [
    "len(df_berlin.neighbourhood.unique())"
   ]
  },
  {
   "cell_type": "markdown",
   "metadata": {},
   "source": [
    "There are 137 unique neighbourhoods within Berlin, with 12 unique neighbourhood groups. "
   ]
  },
  {
   "cell_type": "code",
   "execution_count": 49,
   "metadata": {},
   "outputs": [],
   "source": [
    "# We can also quickly examine who are the top 10 hosts and what are the top 10 prices within the dataset. "
   ]
  },
  {
   "cell_type": "code",
   "execution_count": 50,
   "metadata": {},
   "outputs": [],
   "source": [
    "#The top 10 host_id listings on the AirBnB platform\n",
    "\n",
    "top_10_host=df_berlin.host_id.value_counts().head(10)"
   ]
  },
  {
   "cell_type": "code",
   "execution_count": 51,
   "metadata": {},
   "outputs": [
    {
     "data": {
      "text/plain": [
       "335573202    50\n",
       "8250486      49\n",
       "210700814    44\n",
       "378071271    38\n",
       "8912086      38\n",
       "108025548    30\n",
       "386848467    30\n",
       "3003519      30\n",
       "23904144     25\n",
       "1625771      25\n",
       "Name: host_id, dtype: int64"
      ]
     },
     "execution_count": 51,
     "metadata": {},
     "output_type": "execute_result"
    }
   ],
   "source": [
    "top_10_host"
   ]
  },
  {
   "cell_type": "code",
   "execution_count": 52,
   "metadata": {},
   "outputs": [],
   "source": [
    "#Based on the above, we see that several hosts own around 50 apartment units for rent. "
   ]
  },
  {
   "cell_type": "code",
   "execution_count": 53,
   "metadata": {},
   "outputs": [],
   "source": [
    "# The top 10 price of AirBnB rentals per night\n",
    "\n",
    "top_10_price=df_berlin.price.value_counts().head(10)"
   ]
  },
  {
   "cell_type": "code",
   "execution_count": 54,
   "metadata": {},
   "outputs": [
    {
     "data": {
      "text/plain": [
       "50    787\n",
       "40    707\n",
       "30    695\n",
       "35    650\n",
       "60    586\n",
       "45    582\n",
       "25    569\n",
       "80    425\n",
       "55    402\n",
       "70    386\n",
       "Name: price, dtype: int64"
      ]
     },
     "execution_count": 54,
     "metadata": {},
     "output_type": "execute_result"
    }
   ],
   "source": [
    "top_10_price"
   ]
  },
  {
   "cell_type": "code",
   "execution_count": 55,
   "metadata": {},
   "outputs": [],
   "source": [
    "# Based on the above we can see that their are some very expensive rental units per night, \n",
    "## which is likely not an accurate display of Berlin's AirBnB rental scene.\n"
   ]
  },
  {
   "cell_type": "code",
   "execution_count": 56,
   "metadata": {},
   "outputs": [],
   "source": [
    "price_mean=df_berlin.price.mean()"
   ]
  },
  {
   "cell_type": "code",
   "execution_count": 57,
   "metadata": {},
   "outputs": [
    {
     "data": {
      "text/plain": [
       "77.46474472349959"
      ]
     },
     "execution_count": 57,
     "metadata": {},
     "output_type": "execute_result"
    }
   ],
   "source": [
    "price_mean"
   ]
  },
  {
   "cell_type": "code",
   "execution_count": 58,
   "metadata": {},
   "outputs": [],
   "source": [
    "## Based on the above, we can see that the average price for an AirBnB rental is approximately 77.46 per night"
   ]
  },
  {
   "cell_type": "markdown",
   "metadata": {},
   "source": [
    "While the above are simply only quick overviews of the dataset provided, there is certainly enough information that will allow for a proper hypothesis and analysis of the data to better understand where the most popular neighbourhoods are for renting and what the average price for that area would be. "
   ]
  },
  {
   "cell_type": "code",
   "execution_count": 59,
   "metadata": {},
   "outputs": [],
   "source": [
    "## Will finish off the initial data sourcing steps by creating a brief overview of the descriptive stats of the dataset"
   ]
  },
  {
   "cell_type": "code",
   "execution_count": 60,
   "metadata": {},
   "outputs": [
    {
     "data": {
      "text/html": [
       "<div>\n",
       "<style scoped>\n",
       "    .dataframe tbody tr th:only-of-type {\n",
       "        vertical-align: middle;\n",
       "    }\n",
       "\n",
       "    .dataframe tbody tr th {\n",
       "        vertical-align: top;\n",
       "    }\n",
       "\n",
       "    .dataframe thead th {\n",
       "        text-align: right;\n",
       "    }\n",
       "</style>\n",
       "<table border=\"1\" class=\"dataframe\">\n",
       "  <thead>\n",
       "    <tr style=\"text-align: right;\">\n",
       "      <th></th>\n",
       "      <th>id</th>\n",
       "      <th>host_id</th>\n",
       "      <th>latitude</th>\n",
       "      <th>longitude</th>\n",
       "      <th>price</th>\n",
       "      <th>minimum_nights</th>\n",
       "      <th>number_of_reviews</th>\n",
       "      <th>reviews_per_month</th>\n",
       "      <th>calculated_host_listings_count</th>\n",
       "      <th>availability_365</th>\n",
       "      <th>number_of_reviews_ltm</th>\n",
       "    </tr>\n",
       "  </thead>\n",
       "  <tbody>\n",
       "    <tr>\n",
       "      <th>count</th>\n",
       "      <td>1.696200e+04</td>\n",
       "      <td>1.696200e+04</td>\n",
       "      <td>16962.000000</td>\n",
       "      <td>16962.000000</td>\n",
       "      <td>16962.000000</td>\n",
       "      <td>16962.000000</td>\n",
       "      <td>16962.000000</td>\n",
       "      <td>16962.000000</td>\n",
       "      <td>16962.000000</td>\n",
       "      <td>16962.000000</td>\n",
       "      <td>16962.000000</td>\n",
       "    </tr>\n",
       "    <tr>\n",
       "      <th>mean</th>\n",
       "      <td>9.120904e+15</td>\n",
       "      <td>9.720243e+07</td>\n",
       "      <td>52.509949</td>\n",
       "      <td>13.404871</td>\n",
       "      <td>77.464745</td>\n",
       "      <td>10.857859</td>\n",
       "      <td>24.325080</td>\n",
       "      <td>0.563551</td>\n",
       "      <td>2.910270</td>\n",
       "      <td>77.705990</td>\n",
       "      <td>4.357564</td>\n",
       "    </tr>\n",
       "    <tr>\n",
       "      <th>std</th>\n",
       "      <td>7.108741e+16</td>\n",
       "      <td>1.141714e+08</td>\n",
       "      <td>0.033403</td>\n",
       "      <td>0.065632</td>\n",
       "      <td>146.432360</td>\n",
       "      <td>36.426390</td>\n",
       "      <td>55.462283</td>\n",
       "      <td>1.416329</td>\n",
       "      <td>6.139532</td>\n",
       "      <td>116.864321</td>\n",
       "      <td>16.398155</td>\n",
       "    </tr>\n",
       "    <tr>\n",
       "      <th>min</th>\n",
       "      <td>3.176000e+03</td>\n",
       "      <td>1.581000e+03</td>\n",
       "      <td>52.340070</td>\n",
       "      <td>13.082930</td>\n",
       "      <td>0.000000</td>\n",
       "      <td>1.000000</td>\n",
       "      <td>0.000000</td>\n",
       "      <td>0.000000</td>\n",
       "      <td>1.000000</td>\n",
       "      <td>0.000000</td>\n",
       "      <td>0.000000</td>\n",
       "    </tr>\n",
       "    <tr>\n",
       "      <th>25%</th>\n",
       "      <td>1.232573e+07</td>\n",
       "      <td>1.228578e+07</td>\n",
       "      <td>52.489600</td>\n",
       "      <td>13.367660</td>\n",
       "      <td>36.000000</td>\n",
       "      <td>2.000000</td>\n",
       "      <td>1.000000</td>\n",
       "      <td>0.030000</td>\n",
       "      <td>1.000000</td>\n",
       "      <td>0.000000</td>\n",
       "      <td>0.000000</td>\n",
       "    </tr>\n",
       "    <tr>\n",
       "      <th>50%</th>\n",
       "      <td>2.406350e+07</td>\n",
       "      <td>4.413910e+07</td>\n",
       "      <td>52.509850</td>\n",
       "      <td>13.414560</td>\n",
       "      <td>56.000000</td>\n",
       "      <td>3.000000</td>\n",
       "      <td>5.000000</td>\n",
       "      <td>0.140000</td>\n",
       "      <td>1.000000</td>\n",
       "      <td>0.000000</td>\n",
       "      <td>0.000000</td>\n",
       "    </tr>\n",
       "    <tr>\n",
       "      <th>75%</th>\n",
       "      <td>4.023291e+07</td>\n",
       "      <td>1.484901e+08</td>\n",
       "      <td>52.533140</td>\n",
       "      <td>13.439200</td>\n",
       "      <td>89.000000</td>\n",
       "      <td>5.000000</td>\n",
       "      <td>19.000000</td>\n",
       "      <td>0.580000</td>\n",
       "      <td>2.000000</td>\n",
       "      <td>141.000000</td>\n",
       "      <td>3.000000</td>\n",
       "    </tr>\n",
       "    <tr>\n",
       "      <th>max</th>\n",
       "      <td>5.855340e+17</td>\n",
       "      <td>4.500200e+08</td>\n",
       "      <td>52.656110</td>\n",
       "      <td>13.758550</td>\n",
       "      <td>10999.000000</td>\n",
       "      <td>1124.000000</td>\n",
       "      <td>1096.000000</td>\n",
       "      <td>91.850000</td>\n",
       "      <td>50.000000</td>\n",
       "      <td>365.000000</td>\n",
       "      <td>992.000000</td>\n",
       "    </tr>\n",
       "  </tbody>\n",
       "</table>\n",
       "</div>"
      ],
      "text/plain": [
       "                 id       host_id      latitude     longitude         price  \\\n",
       "count  1.696200e+04  1.696200e+04  16962.000000  16962.000000  16962.000000   \n",
       "mean   9.120904e+15  9.720243e+07     52.509949     13.404871     77.464745   \n",
       "std    7.108741e+16  1.141714e+08      0.033403      0.065632    146.432360   \n",
       "min    3.176000e+03  1.581000e+03     52.340070     13.082930      0.000000   \n",
       "25%    1.232573e+07  1.228578e+07     52.489600     13.367660     36.000000   \n",
       "50%    2.406350e+07  4.413910e+07     52.509850     13.414560     56.000000   \n",
       "75%    4.023291e+07  1.484901e+08     52.533140     13.439200     89.000000   \n",
       "max    5.855340e+17  4.500200e+08     52.656110     13.758550  10999.000000   \n",
       "\n",
       "       minimum_nights  number_of_reviews  reviews_per_month  \\\n",
       "count    16962.000000       16962.000000       16962.000000   \n",
       "mean        10.857859          24.325080           0.563551   \n",
       "std         36.426390          55.462283           1.416329   \n",
       "min          1.000000           0.000000           0.000000   \n",
       "25%          2.000000           1.000000           0.030000   \n",
       "50%          3.000000           5.000000           0.140000   \n",
       "75%          5.000000          19.000000           0.580000   \n",
       "max       1124.000000        1096.000000          91.850000   \n",
       "\n",
       "       calculated_host_listings_count  availability_365  number_of_reviews_ltm  \n",
       "count                    16962.000000      16962.000000           16962.000000  \n",
       "mean                         2.910270         77.705990               4.357564  \n",
       "std                          6.139532        116.864321              16.398155  \n",
       "min                          1.000000          0.000000               0.000000  \n",
       "25%                          1.000000          0.000000               0.000000  \n",
       "50%                          1.000000          0.000000               0.000000  \n",
       "75%                          2.000000        141.000000               3.000000  \n",
       "max                         50.000000        365.000000             992.000000  "
      ]
     },
     "execution_count": 60,
     "metadata": {},
     "output_type": "execute_result"
    }
   ],
   "source": [
    "df_berlin.describe()"
   ]
  },
  {
   "cell_type": "code",
   "execution_count": 61,
   "metadata": {
    "scrolled": true
   },
   "outputs": [
    {
     "name": "stdout",
     "output_type": "stream",
     "text": [
      "                 id       host_id      latitude     longitude         price  \\\n",
      "count  1.696200e+04  1.696200e+04  16962.000000  16962.000000  16962.000000   \n",
      "mean   9.120904e+15  9.720243e+07     52.509949     13.404871     77.464745   \n",
      "std    7.108741e+16  1.141714e+08      0.033403      0.065632    146.432360   \n",
      "min    3.176000e+03  1.581000e+03     52.340070     13.082930      0.000000   \n",
      "25%    1.232573e+07  1.228578e+07     52.489600     13.367660     36.000000   \n",
      "50%    2.406350e+07  4.413910e+07     52.509850     13.414560     56.000000   \n",
      "75%    4.023291e+07  1.484901e+08     52.533140     13.439200     89.000000   \n",
      "max    5.855340e+17  4.500200e+08     52.656110     13.758550  10999.000000   \n",
      "\n",
      "       minimum_nights  number_of_reviews  reviews_per_month  \\\n",
      "count    16962.000000       16962.000000       16962.000000   \n",
      "mean        10.857859          24.325080           0.563551   \n",
      "std         36.426390          55.462283           1.416329   \n",
      "min          1.000000           0.000000           0.000000   \n",
      "25%          2.000000           1.000000           0.030000   \n",
      "50%          3.000000           5.000000           0.140000   \n",
      "75%          5.000000          19.000000           0.580000   \n",
      "max       1124.000000        1096.000000          91.850000   \n",
      "\n",
      "       calculated_host_listings_count  availability_365  number_of_reviews_ltm  \n",
      "count                    16962.000000      16962.000000           16962.000000  \n",
      "mean                         2.910270         77.705990               4.357564  \n",
      "std                          6.139532        116.864321              16.398155  \n",
      "min                          1.000000          0.000000               0.000000  \n",
      "25%                          1.000000          0.000000               0.000000  \n",
      "50%                          1.000000          0.000000               0.000000  \n",
      "75%                          2.000000        141.000000               3.000000  \n",
      "max                         50.000000        365.000000             992.000000  \n"
     ]
    }
   ],
   "source": [
    "print(df_berlin.describe())"
   ]
  },
  {
   "cell_type": "markdown",
   "metadata": {},
   "source": [
    "# 06. Exporting Data"
   ]
  },
  {
   "cell_type": "code",
   "execution_count": 62,
   "metadata": {},
   "outputs": [],
   "source": [
    "# Exporting dataset as csv file\n",
    "\n",
    "df_berlin.to_csv(os.path.join(path, \"Data\", 'Prepared Data', 'AirBnB Berlin_clean.csv'))"
   ]
  },
  {
   "cell_type": "code",
   "execution_count": null,
   "metadata": {},
   "outputs": [],
   "source": []
  }
 ],
 "metadata": {
  "kernelspec": {
   "display_name": "Python 3",
   "language": "python",
   "name": "python3"
  },
  "language_info": {
   "codemirror_mode": {
    "name": "ipython",
    "version": 3
   },
   "file_extension": ".py",
   "mimetype": "text/x-python",
   "name": "python",
   "nbconvert_exporter": "python",
   "pygments_lexer": "ipython3",
   "version": "3.8.5"
  }
 },
 "nbformat": 4,
 "nbformat_minor": 5
}
